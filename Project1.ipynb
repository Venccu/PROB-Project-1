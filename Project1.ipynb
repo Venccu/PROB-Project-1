{
 "cells": [
  {
   "cell_type": "markdown",
   "id": "e5fef740-6dcf-475f-b0a4-6e403518210d",
   "metadata": {},
   "source": [
    "## Project 1 for T-811-PROB - Kilian, Tobi & Venla"
   ]
  },
  {
   "cell_type": "code",
   "execution_count": null,
   "id": "3e76a77d-b091-4a6e-91fe-2057c0ce20af",
   "metadata": {},
   "outputs": [],
   "source": [
    "## Set up\n",
    "\n",
    "start = 25 # amount to start with\n",
    "n = 300 # number of tosses\n",
    "p_heads = 0.7\n",
    "p_tails = 0.3\n"
   ]
  },
  {
   "cell_type": "markdown",
   "id": "2a5f1f39-0940-4c11-adf5-f56e1f4ed56a",
   "metadata": {},
   "source": [
    "### Part A"
   ]
  },
  {
   "cell_type": "code",
   "execution_count": null,
   "id": "d8b8c62b-61a1-4ed3-aace-f95c8bb83d90",
   "metadata": {},
   "outputs": [],
   "source": []
  }
 ],
 "metadata": {
  "kernelspec": {
   "display_name": "Python 3",
   "language": "python",
   "name": "python3"
  },
  "language_info": {
   "codemirror_mode": {
    "name": "ipython",
    "version": 3
   },
   "file_extension": ".py",
   "mimetype": "text/x-python",
   "name": "python",
   "nbconvert_exporter": "python",
   "pygments_lexer": "ipython3",
   "version": "3.10.12"
  }
 },
 "nbformat": 4,
 "nbformat_minor": 5
}
